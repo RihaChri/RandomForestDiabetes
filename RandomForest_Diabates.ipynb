{
  "nbformat": 4,
  "nbformat_minor": 0,
  "metadata": {
    "colab": {
      "name": "RandomForest-Diabates.ipynb",
      "provenance": [],
      "collapsed_sections": [],
      "mount_file_id": "1zBy0avh1RASl0wXMKURmt4Fh5lMAboZU",
      "authorship_tag": "ABX9TyPbfswbGExeItBIoS07wR+g",
      "include_colab_link": true
    },
    "kernelspec": {
      "name": "python3",
      "display_name": "Python 3"
    },
    "language_info": {
      "name": "python"
    }
  },
  "cells": [
    {
      "cell_type": "markdown",
      "metadata": {
        "id": "view-in-github",
        "colab_type": "text"
      },
      "source": [
        "<a href=\"https://colab.research.google.com/github/RihaChri/RandomForestDiabetes/blob/main/RandomForest_Diabates.ipynb\" target=\"_parent\"><img src=\"https://colab.research.google.com/assets/colab-badge.svg\" alt=\"Open In Colab\"/></a>"
      ]
    },
    {
      "cell_type": "code",
      "execution_count": 1,
      "metadata": {
        "colab": {
          "base_uri": "https://localhost:8080/",
          "height": 575
        },
        "id": "6HE3xXIxCHcp",
        "outputId": "05307682-8aa1-464a-9f2a-a766920808bc"
      },
      "outputs": [
        {
          "output_type": "stream",
          "name": "stdout",
          "text": [
            "Results of train set:\n",
            "------------  --------------  ---------------\n",
            "              Predicted True  Predicted False\n",
            "Actual True   206             0\n",
            "Actual False  0               370\n",
            "------------  --------------  ---------------\n",
            "Accuracy Train set:1.0\n",
            "----------------------------------------\n",
            "----------------------------------------\n",
            "Results of test set:\n",
            "------------  --------------  ---------------\n",
            "              Predicted True  Predicted False\n",
            "Actual True   35              27\n",
            "Actual False  15              115\n",
            "------------  --------------  ---------------\n",
            "Accuracy Test set:0.78125\n"
          ]
        },
        {
          "output_type": "display_data",
          "data": {
            "image/png": "[encoded data removed]",
            "text/plain": [
              "<Figure size 432x288 with 1 Axes>"
            ]
          },
          "metadata": {
            "needs_background": "light"
          }
        }
      ],
      "source": [
        "#Data is obtained from https://www.openml.org/d/37\n",
        "#The set contains data of 768 patients with 8 attributes\n",
        "#binary classification problem: Diabetes yes or no?\n",
        "#1. Number of times pregnant\n",
        "#2. Plasma glucose concentration a 2 hours in an oral glucose tolerance test\n",
        "#3. Diastolic blood pressure (mm Hg)\n",
        "#4. Triceps skin fold thickness (mm)\n",
        "#5. 2-Hour serum insulin (mu U/ml)\n",
        "#6. Body mass index (weight in kg/(height in m)^2)\n",
        "#7. Diabetes pedigree function\n",
        "#8. Age (years)\n",
        "#9. Class variable (0 or 1)\n",
        "\n",
        "import numpy as np\n",
        "import matplotlib.pyplot as plt\n",
        "import pandas as pd\n",
        "from sklearn.model_selection import train_test_split\n",
        "from sklearn.preprocessing import StandardScaler\n",
        "from sklearn.ensemble import RandomForestClassifier\n",
        "from sklearn.metrics import confusion_matrix\n",
        "from tabulate import tabulate\n",
        "\n",
        "#Importing data\n",
        "data= pd.read_csv(\"/content/drive/MyDrive/Colab Notebooks/RandomForest-Diabetes/dataset_37_diabetes.csv\")\n",
        "\n",
        "X = data.iloc[:, 0:8].values\n",
        "Y = data.iloc[:, 8].values\n",
        "\n",
        "#split dataset\n",
        "from sklearn.model_selection import train_test_split\n",
        "X_Train, X_Test, Y_Train, Y_Test = train_test_split(X, Y, test_size = 0.25, random_state = 0)\n",
        "\n",
        "# Feature Scaling\n",
        "sc_X = StandardScaler()\n",
        "X_Train = sc_X.fit_transform(X_Train)\n",
        "X_Test = sc_X.transform(X_Test)\n",
        "\n",
        "#Training model\n",
        "classifier = RandomForestClassifier(n_estimators = 200, criterion = 'entropy', random_state = 0)\n",
        "classifier.fit(X_Train,Y_Train)\n",
        "\n",
        "#Confusion Matrix - Train Set\n",
        "Y_Train_Pred = classifier.predict(X_Train)\n",
        "trueNegative, falsePositive, falseNegative, truePositive = confusion_matrix(Y_Train, Y_Train_Pred).ravel()\n",
        "print('Results of train set:')\n",
        "print(tabulate([['', 'Predicted True', 'Predicted False'],   ['Actual True', truePositive, falseNegative]    , ['Actual False', falsePositive, trueNegative]    ]      ))\n",
        "print('Accuracy Train set:'+str((truePositive+trueNegative)/(truePositive+trueNegative+falseNegative+falsePositive)))\n",
        "print('----------------------------------------')\n",
        "print('----------------------------------------')\n",
        "\n",
        "#Predicting with test set\n",
        "Y_Test_Pred = classifier.predict(X_Test)\n",
        "\n",
        "#Confusion Matrix - Test Set\n",
        "trueNegative, falsePositive, falseNegative, truePositive = confusion_matrix(Y_Test, Y_Test_Pred).ravel()\n",
        "print('Results of test set:')\n",
        "print(tabulate([['', 'Predicted True', 'Predicted False'],   ['Actual True', truePositive, falseNegative]    , ['Actual False', falsePositive, trueNegative]    ]      ))\n",
        "print('Accuracy Test set:'+str((truePositive+trueNegative)/(truePositive+trueNegative+falseNegative+falsePositive)))\n",
        "\n",
        "\n",
        "\n",
        "feature_names = [\"No pregnancies\", \"Pl. Glucose\", \"Dia. Bl. Pr. [mm Hg]\", \"Triceps skin [mm]\", \"2h SI [(]mu U/ml]\", \"BMI [kg/(height in m)^2]\", \"Pedigree Function\", \"Age\"]\n",
        "\n",
        "importances = classifier.feature_importances_\n",
        "std = np.std([tree.feature_importances_ for tree in classifier.estimators_], axis=0)\n",
        "\n",
        "\n",
        "forest_importances = pd.Series(importances, index=feature_names)\n",
        "\n",
        "fig, ax = plt.subplots()\n",
        "forest_importances.plot.bar(yerr=std, ax=ax)\n",
        "ax.set_title(\"Feature importances using MDI\")\n",
        "ax.set_ylabel(\"Mean decrease in impurity\")\n",
        "fig.tight_layout()"
      ]
    }
  ]
}